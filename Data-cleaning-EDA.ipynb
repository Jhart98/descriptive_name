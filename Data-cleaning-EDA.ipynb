{
 "cells": [
  {
   "cell_type": "markdown",
   "metadata": {},
   "source": [
    "### Data Cleaning and EDA"
   ]
  },
  {
   "cell_type": "code",
   "execution_count": 1,
   "metadata": {},
   "outputs": [],
   "source": [
    "# imports\n",
    "import pandas as pd\n",
    "from sklearn.feature_extraction.text import CountVectorizer\n",
    "from nltk.corpus import stopwords\n",
    "import matplotlib.pyplot as plt\n",
    "import seaborn as sns\n",
    "from nltk.stem import WordNetLemmatizer\n",
    "from nltk.tokenize import word_tokenize\n"
   ]
  },
  {
   "cell_type": "code",
   "execution_count": 2,
   "metadata": {},
   "outputs": [],
   "source": [
    "# read in the data\n",
    "soccer = pd.read_csv('./data/soccer.csv')"
   ]
  },
  {
   "cell_type": "code",
   "execution_count": 3,
   "metadata": {},
   "outputs": [
    {
     "data": {
      "text/html": [
       "<div>\n",
       "<style scoped>\n",
       "    .dataframe tbody tr th:only-of-type {\n",
       "        vertical-align: middle;\n",
       "    }\n",
       "\n",
       "    .dataframe tbody tr th {\n",
       "        vertical-align: top;\n",
       "    }\n",
       "\n",
       "    .dataframe thead th {\n",
       "        text-align: right;\n",
       "    }\n",
       "</style>\n",
       "<table border=\"1\" class=\"dataframe\">\n",
       "  <thead>\n",
       "    <tr style=\"text-align: right;\">\n",
       "      <th></th>\n",
       "      <th>subreddit</th>\n",
       "      <th>title</th>\n",
       "      <th>created_utc</th>\n",
       "    </tr>\n",
       "  </thead>\n",
       "  <tbody>\n",
       "    <tr>\n",
       "      <th>0</th>\n",
       "      <td>soccer</td>\n",
       "      <td>Patrice Motsepe (head of CAF) statements after...</td>\n",
       "      <td>1673634624</td>\n",
       "    </tr>\n",
       "    <tr>\n",
       "      <th>1</th>\n",
       "      <td>soccer</td>\n",
       "      <td>Since it hasn't been posted here, the statemen...</td>\n",
       "      <td>1673634572</td>\n",
       "    </tr>\n",
       "    <tr>\n",
       "      <th>2</th>\n",
       "      <td>soccer</td>\n",
       "      <td>[Brighton and Hove Albion] Facundo Buonanotte ...</td>\n",
       "      <td>1673634411</td>\n",
       "    </tr>\n",
       "    <tr>\n",
       "      <th>3</th>\n",
       "      <td>soccer</td>\n",
       "      <td>PSV see Dynamo Kyiv's Viktor Tsygankov as main...</td>\n",
       "      <td>1673634401</td>\n",
       "    </tr>\n",
       "    <tr>\n",
       "      <th>4</th>\n",
       "      <td>soccer</td>\n",
       "      <td>Brighton and Hove Albion offical: Facundo Buon...</td>\n",
       "      <td>1673634201</td>\n",
       "    </tr>\n",
       "  </tbody>\n",
       "</table>\n",
       "</div>"
      ],
      "text/plain": [
       "  subreddit                                              title  created_utc\n",
       "0    soccer  Patrice Motsepe (head of CAF) statements after...   1673634624\n",
       "1    soccer  Since it hasn't been posted here, the statemen...   1673634572\n",
       "2    soccer  [Brighton and Hove Albion] Facundo Buonanotte ...   1673634411\n",
       "3    soccer  PSV see Dynamo Kyiv's Viktor Tsygankov as main...   1673634401\n",
       "4    soccer  Brighton and Hove Albion offical: Facundo Buon...   1673634201"
      ]
     },
     "execution_count": 3,
     "metadata": {},
     "output_type": "execute_result"
    }
   ],
   "source": [
    "# Check the first 5 rows\n",
    "soccer.head()"
   ]
  },
  {
   "cell_type": "code",
   "execution_count": 4,
   "metadata": {},
   "outputs": [],
   "source": [
    "# read in the data \n",
    "world_cup = pd.read_csv('./data/world_cup.csv')"
   ]
  },
  {
   "cell_type": "code",
   "execution_count": 5,
   "metadata": {},
   "outputs": [
    {
     "data": {
      "text/html": [
       "<div>\n",
       "<style scoped>\n",
       "    .dataframe tbody tr th:only-of-type {\n",
       "        vertical-align: middle;\n",
       "    }\n",
       "\n",
       "    .dataframe tbody tr th {\n",
       "        vertical-align: top;\n",
       "    }\n",
       "\n",
       "    .dataframe thead th {\n",
       "        text-align: right;\n",
       "    }\n",
       "</style>\n",
       "<table border=\"1\" class=\"dataframe\">\n",
       "  <thead>\n",
       "    <tr style=\"text-align: right;\">\n",
       "      <th></th>\n",
       "      <th>subreddit</th>\n",
       "      <th>title</th>\n",
       "      <th>created_utc</th>\n",
       "    </tr>\n",
       "  </thead>\n",
       "  <tbody>\n",
       "    <tr>\n",
       "      <th>0</th>\n",
       "      <td>worldcup</td>\n",
       "      <td>How do some football managers always get the b...</td>\n",
       "      <td>1673632813</td>\n",
       "    </tr>\n",
       "    <tr>\n",
       "      <th>1</th>\n",
       "      <td>worldcup</td>\n",
       "      <td>France and Argentina fans… so is it fair to co...</td>\n",
       "      <td>1673621651</td>\n",
       "    </tr>\n",
       "    <tr>\n",
       "      <th>2</th>\n",
       "      <td>worldcup</td>\n",
       "      <td>where to the final match ball 2022 with teams ...</td>\n",
       "      <td>1673601825</td>\n",
       "    </tr>\n",
       "    <tr>\n",
       "      <th>3</th>\n",
       "      <td>worldcup</td>\n",
       "      <td>Are You Looking For Machine Stitch Trousers In...</td>\n",
       "      <td>1673597142</td>\n",
       "    </tr>\n",
       "    <tr>\n",
       "      <th>4</th>\n",
       "      <td>worldcup</td>\n",
       "      <td>World Cup 2026 Preview: How will Brazil fair i...</td>\n",
       "      <td>1673593701</td>\n",
       "    </tr>\n",
       "  </tbody>\n",
       "</table>\n",
       "</div>"
      ],
      "text/plain": [
       "  subreddit                                              title  created_utc\n",
       "0  worldcup  How do some football managers always get the b...   1673632813\n",
       "1  worldcup  France and Argentina fans… so is it fair to co...   1673621651\n",
       "2  worldcup  where to the final match ball 2022 with teams ...   1673601825\n",
       "3  worldcup  Are You Looking For Machine Stitch Trousers In...   1673597142\n",
       "4  worldcup  World Cup 2026 Preview: How will Brazil fair i...   1673593701"
      ]
     },
     "execution_count": 5,
     "metadata": {},
     "output_type": "execute_result"
    }
   ],
   "source": [
    "# Check the first 5 words\n",
    "world_cup.head()"
   ]
  },
  {
   "cell_type": "markdown",
   "metadata": {},
   "source": [
    "### Count Vectorizer for Soccer "
   ]
  },
  {
   "cell_type": "code",
   "execution_count": 6,
   "metadata": {},
   "outputs": [],
   "source": [
    "stops = stopwords.words('english')\n",
    "cvec = CountVectorizer(stop_words = stops)"
   ]
  },
  {
   "cell_type": "code",
   "execution_count": 7,
   "metadata": {},
   "outputs": [
    {
     "data": {
      "text/plain": [
       "cup           77\n",
       "sign          68\n",
       "club          67\n",
       "league        64\n",
       "football      59\n",
       "chelsea       59\n",
       "match         56\n",
       "united        56\n",
       "manchester    55\n",
       "player        52\n",
       "loan          52\n",
       "vs            49\n",
       "thread        45\n",
       "real          45\n",
       "deal          43\n",
       "dtype: int64"
      ]
     },
     "execution_count": 7,
     "metadata": {},
     "output_type": "execute_result"
    }
   ],
   "source": [
    "title_vect = cvec.fit_transform(soccer['title'])\n",
    "s_title_vect_df = pd.DataFrame(title_vect.todense(), columns=cvec.get_feature_names_out())\n",
    "\n",
    "# Take a look at the top 15 words\n",
    "s_title_vect_df.sum().sort_values(ascending=False).head(15)"
   ]
  },
  {
   "cell_type": "markdown",
   "metadata": {},
   "source": [
    "### Count Vectorizer for World Cup"
   ]
  },
  {
   "cell_type": "code",
   "execution_count": 8,
   "metadata": {},
   "outputs": [
    {
     "data": {
      "text/plain": [
       "world        385\n",
       "cup          355\n",
       "messi        139\n",
       "first        115\n",
       "people       111\n",
       "2022         111\n",
       "argentina     92\n",
       "800           88\n",
       "fifa          84\n",
       "qatar         67\n",
       "new           65\n",
       "final         64\n",
       "live          59\n",
       "ronaldo       55\n",
       "football      54\n",
       "dtype: int64"
      ]
     },
     "execution_count": 8,
     "metadata": {},
     "output_type": "execute_result"
    }
   ],
   "source": [
    "title_vect2 = cvec.fit_transform(world_cup['title'])\n",
    "w_title_vect_df = pd.DataFrame(title_vect2.todense(), columns=cvec.get_feature_names_out())\n",
    "\n",
    "# Take a look at the top 15 words\n",
    "w_title_vect_df.sum().sort_values(ascending=False).head(15)\n",
    "# The 800 is an instance of nft spam "
   ]
  },
  {
   "cell_type": "code",
   "execution_count": 9,
   "metadata": {},
   "outputs": [],
   "source": [
    "strange_number = world_cup['title'].str.contains('800')\n",
    "strange_number = ~strange_number"
   ]
  },
  {
   "cell_type": "code",
   "execution_count": 10,
   "metadata": {},
   "outputs": [],
   "source": [
    "# Got rid of strange number 800 nft spam \n",
    "world_cup = world_cup.loc[strange_number]"
   ]
  },
  {
   "cell_type": "code",
   "execution_count": 11,
   "metadata": {},
   "outputs": [
    {
     "name": "stdout",
     "output_type": "stream",
     "text": [
      "0      True\n",
      "1      True\n",
      "2      True\n",
      "3      True\n",
      "4      True\n",
      "       ... \n",
      "995    True\n",
      "996    True\n",
      "997    True\n",
      "998    True\n",
      "999    True\n",
      "Name: title, Length: 1000, dtype: bool\n"
     ]
    }
   ],
   "source": [
    "type(strange_number)\n",
    "print(strange_number)"
   ]
  },
  {
   "cell_type": "code",
   "execution_count": 12,
   "metadata": {},
   "outputs": [
    {
     "data": {
      "text/html": [
       "<div>\n",
       "<style scoped>\n",
       "    .dataframe tbody tr th:only-of-type {\n",
       "        vertical-align: middle;\n",
       "    }\n",
       "\n",
       "    .dataframe tbody tr th {\n",
       "        vertical-align: top;\n",
       "    }\n",
       "\n",
       "    .dataframe thead th {\n",
       "        text-align: right;\n",
       "    }\n",
       "</style>\n",
       "<table border=\"1\" class=\"dataframe\">\n",
       "  <thead>\n",
       "    <tr style=\"text-align: right;\">\n",
       "      <th></th>\n",
       "      <th>subreddit</th>\n",
       "      <th>title</th>\n",
       "      <th>created_utc</th>\n",
       "    </tr>\n",
       "  </thead>\n",
       "  <tbody>\n",
       "    <tr>\n",
       "      <th>0</th>\n",
       "      <td>soccer</td>\n",
       "      <td>Patrice Motsepe (head of CAF) statements after...</td>\n",
       "      <td>1673634624</td>\n",
       "    </tr>\n",
       "    <tr>\n",
       "      <th>1</th>\n",
       "      <td>soccer</td>\n",
       "      <td>Since it hasn't been posted here, the statemen...</td>\n",
       "      <td>1673634572</td>\n",
       "    </tr>\n",
       "    <tr>\n",
       "      <th>2</th>\n",
       "      <td>soccer</td>\n",
       "      <td>[Brighton and Hove Albion] Facundo Buonanotte ...</td>\n",
       "      <td>1673634411</td>\n",
       "    </tr>\n",
       "    <tr>\n",
       "      <th>3</th>\n",
       "      <td>soccer</td>\n",
       "      <td>PSV see Dynamo Kyiv's Viktor Tsygankov as main...</td>\n",
       "      <td>1673634401</td>\n",
       "    </tr>\n",
       "    <tr>\n",
       "      <th>4</th>\n",
       "      <td>soccer</td>\n",
       "      <td>Brighton and Hove Albion offical: Facundo Buon...</td>\n",
       "      <td>1673634201</td>\n",
       "    </tr>\n",
       "  </tbody>\n",
       "</table>\n",
       "</div>"
      ],
      "text/plain": [
       "  subreddit                                              title  created_utc\n",
       "0    soccer  Patrice Motsepe (head of CAF) statements after...   1673634624\n",
       "1    soccer  Since it hasn't been posted here, the statemen...   1673634572\n",
       "2    soccer  [Brighton and Hove Albion] Facundo Buonanotte ...   1673634411\n",
       "3    soccer  PSV see Dynamo Kyiv's Viktor Tsygankov as main...   1673634401\n",
       "4    soccer  Brighton and Hove Albion offical: Facundo Buon...   1673634201"
      ]
     },
     "execution_count": 12,
     "metadata": {},
     "output_type": "execute_result"
    }
   ],
   "source": [
    "# Combined soccer dataframe and world cup data frame\n",
    "soccer_world_cup = pd.concat([soccer,world_cup], ignore_index=True)\n",
    "soccer_world_cup.head()"
   ]
  },
  {
   "cell_type": "markdown",
   "metadata": {},
   "source": [
    "### Showing the 800 spam is gone"
   ]
  },
  {
   "cell_type": "code",
   "execution_count": 13,
   "metadata": {},
   "outputs": [
    {
     "data": {
      "text/plain": [
       "world        385\n",
       "cup          355\n",
       "messi        139\n",
       "2022         111\n",
       "argentina     92\n",
       "fifa          84\n",
       "first         71\n",
       "qatar         67\n",
       "people        67\n",
       "final         64\n",
       "ronaldo       55\n",
       "football      54\n",
       "france        53\n",
       "name          53\n",
       "service       47\n",
       "dtype: int64"
      ]
     },
     "execution_count": 13,
     "metadata": {},
     "output_type": "execute_result"
    }
   ],
   "source": [
    "# Fit and tranform world cup data\n",
    "title_vect2 = cvec.fit_transform(world_cup['title'])\n",
    "# Make dataframe out of title category\n",
    "w_title_vect_df = pd.DataFrame(title_vect2.todense(), columns=cvec.get_feature_names_out())\n",
    "\n",
    "# Take a look at the top 15 words\n",
    "w_title_vect_df.sum().sort_values(ascending=False).head(15)"
   ]
  },
  {
   "cell_type": "code",
   "execution_count": 43,
   "metadata": {},
   "outputs": [
    {
     "data": {
      "image/png": "[encoded data removed]",
      "text/plain": [
       "<Figure size 1152x432 with 2 Axes>"
      ]
     },
     "metadata": {
      "needs_background": "light"
     },
     "output_type": "display_data"
    }
   ],
   "source": [
    "fig, ax = plt.subplots(1,2, figsize=(16,6))\n",
    "s_title_vect_df.sum().sort_values(ascending=False).head(10).plot(kind='barh', ax=ax[0])\n",
    "w_title_vect_df.sum().sort_values(ascending=False).head(10).plot(kind='barh', ax=ax[1])\n",
    "plt.xlabel('Word Count')\n",
    "plt.ylabel('Top Words')\n",
    "ax[0].invert_yaxis()\n",
    "ax[1].invert_yaxis();"
   ]
  },
  {
   "cell_type": "markdown",
   "metadata": {},
   "source": [
    "### Word Count Barh Distribution Described\n",
    "In both the soccer and world cup subreddits cup was a very commonly used word. Showed that many people who went into a subreddit to talk about the world cup went to both the soccer and world cup subreddits to talk about it. The location of the world cup qatar and the year 2022 showed up in the world cup subreddit but were not as popular in the soccer subreddit. The world cup subreddit had far hihger frequencies of the top 10 words than the soccer subreddit did."
   ]
  },
  {
   "cell_type": "markdown",
   "metadata": {},
   "source": [
    "### Soccer and World Cup Bigrams"
   ]
  },
  {
   "cell_type": "code",
   "execution_count": 39,
   "metadata": {},
   "outputs": [],
   "source": [
    "cv = CountVectorizer(stop_words='english', ngram_range=(3,3))\n",
    "\n",
    "soccer_vect = cv.fit_transform(soccer['title'])\n",
    "soccer_vect_df = pd.DataFrame(soccer_vect.todense(), columns=cv.get_feature_names_out())\n",
    "\n",
    "world_cup_vect = cv.fit_transform(world_cup['title'])\n",
    "world_cup_vect_df = pd.DataFrame(world_cup_vect.todense(), columns=cv.get_feature_names_out())"
   ]
  },
  {
   "cell_type": "code",
   "execution_count": 37,
   "metadata": {},
   "outputs": [
    {
     "data": {
      "image/png": "[encoded data removed]",
      "text/plain": [
       "<Figure size 1152x432 with 2 Axes>"
      ]
     },
     "metadata": {
      "needs_background": "light"
     },
     "output_type": "display_data"
    }
   ],
   "source": [
    "fig, ax = plt.subplots(1,2, figsize=(16,6))\n",
    "soccer_vect_df.sum().sort_values(ascending=False).head(10).plot(kind='barh', ax=ax[0])\n",
    "world_cup_vect_df.sum().sort_values(ascending=False).head(10).plot(kind='barh', ax=ax[1])\n",
    "\n",
    "ax[0].invert_yaxis()\n",
    "ax[1].invert_yaxis();"
   ]
  },
  {
   "cell_type": "markdown",
   "metadata": {},
   "source": [
    "### Soccer and World Cup Bigrams Described\n",
    "The world cup subreddit seems to have a moderator issue or troubles with cryptocurrency. The bigrams outside of world cup and fifa world mostly consist of ecoins, airdropping, and other services. Most likely people trying to take advantage of the many people on the world cup subreddit to promote their items. The soccer subreddit does not have this issue as the common words are of the world cup, soccer teams, jouurnalists, and popular league names. "
   ]
  },
  {
   "cell_type": "code",
   "execution_count": 15,
   "metadata": {},
   "outputs": [],
   "source": [
    "#world_cup.to_csv('data/world_cup_no_spam.csv', encoding = 'utf-8', index=False)"
   ]
  },
  {
   "cell_type": "code",
   "execution_count": 17,
   "metadata": {},
   "outputs": [
    {
     "data": {
      "text/html": [
       "<div>\n",
       "<style scoped>\n",
       "    .dataframe tbody tr th:only-of-type {\n",
       "        vertical-align: middle;\n",
       "    }\n",
       "\n",
       "    .dataframe tbody tr th {\n",
       "        vertical-align: top;\n",
       "    }\n",
       "\n",
       "    .dataframe thead th {\n",
       "        text-align: right;\n",
       "    }\n",
       "</style>\n",
       "<table border=\"1\" class=\"dataframe\">\n",
       "  <thead>\n",
       "    <tr style=\"text-align: right;\">\n",
       "      <th></th>\n",
       "      <th>subreddit</th>\n",
       "      <th>title</th>\n",
       "      <th>created_utc</th>\n",
       "      <th>length</th>\n",
       "    </tr>\n",
       "  </thead>\n",
       "  <tbody>\n",
       "    <tr>\n",
       "      <th>0</th>\n",
       "      <td>soccer</td>\n",
       "      <td>Patrice Motsepe (head of CAF) statements after...</td>\n",
       "      <td>1673634624</td>\n",
       "      <td>66</td>\n",
       "    </tr>\n",
       "    <tr>\n",
       "      <th>1</th>\n",
       "      <td>soccer</td>\n",
       "      <td>Since it hasn't been posted here, the statemen...</td>\n",
       "      <td>1673634572</td>\n",
       "      <td>78</td>\n",
       "    </tr>\n",
       "    <tr>\n",
       "      <th>2</th>\n",
       "      <td>soccer</td>\n",
       "      <td>[Brighton and Hove Albion] Facundo Buonanotte ...</td>\n",
       "      <td>1673634411</td>\n",
       "      <td>65</td>\n",
       "    </tr>\n",
       "    <tr>\n",
       "      <th>3</th>\n",
       "      <td>soccer</td>\n",
       "      <td>PSV see Dynamo Kyiv's Viktor Tsygankov as main...</td>\n",
       "      <td>1673634401</td>\n",
       "      <td>154</td>\n",
       "    </tr>\n",
       "    <tr>\n",
       "      <th>4</th>\n",
       "      <td>soccer</td>\n",
       "      <td>Brighton and Hove Albion offical: Facundo Buon...</td>\n",
       "      <td>1673634201</td>\n",
       "      <td>72</td>\n",
       "    </tr>\n",
       "  </tbody>\n",
       "</table>\n",
       "</div>"
      ],
      "text/plain": [
       "  subreddit                                              title  created_utc  \\\n",
       "0    soccer  Patrice Motsepe (head of CAF) statements after...   1673634624   \n",
       "1    soccer  Since it hasn't been posted here, the statemen...   1673634572   \n",
       "2    soccer  [Brighton and Hove Albion] Facundo Buonanotte ...   1673634411   \n",
       "3    soccer  PSV see Dynamo Kyiv's Viktor Tsygankov as main...   1673634401   \n",
       "4    soccer  Brighton and Hove Albion offical: Facundo Buon...   1673634201   \n",
       "\n",
       "   length  \n",
       "0      66  \n",
       "1      78  \n",
       "2      65  \n",
       "3     154  \n",
       "4      72  "
      ]
     },
     "execution_count": 17,
     "metadata": {},
     "output_type": "execute_result"
    }
   ],
   "source": [
    "# Create a new column for the text length for Soccer_World_Cup\n",
    "soccer_world_cup['length'] = soccer_world_cup['title'].apply(len)\n",
    "soccer_world_cup.head()"
   ]
  },
  {
   "cell_type": "code",
   "execution_count": 18,
   "metadata": {},
   "outputs": [],
   "source": [
    "# Create a new column for the word count for Soccer_World_Cup\n",
    "soccer_world_cup['word_count'] = soccer_world_cup['title'].apply(lambda x: len(x.split()))"
   ]
  },
  {
   "cell_type": "code",
   "execution_count": 21,
   "metadata": {},
   "outputs": [],
   "source": [
    "# Separate reddits by subreddit for comparison\n",
    "socc = soccer_world_cup[soccer_world_cup['subreddit'] == 'soccer']\n",
    "wcup = soccer_world_cup[soccer_world_cup['subreddit'] == 'worldcup']"
   ]
  },
  {
   "cell_type": "code",
   "execution_count": 22,
   "metadata": {},
   "outputs": [
    {
     "data": {
      "image/png": "[encoded data removed]",
      "text/plain": [
       "<Figure size 1152x1152 with 4 Axes>"
      ]
     },
     "metadata": {
      "needs_background": "light"
     },
     "output_type": "display_data"
    }
   ],
   "source": [
    "# Plot length and word count distributions by subreddit\n",
    "fig, ax = plt.subplots(2, 2, figsize=(16,16))\n",
    "sns.histplot(socc['length'], ax=ax[0,0])\n",
    "sns.histplot(wcup['length'], ax=ax[0,1])\n",
    "sns.histplot(socc['word_count'], ax=ax[1,0])\n",
    "sns.histplot(wcup['word_count'], ax=ax[1,1])\n",
    "\n",
    "ax[0,0].set(xlabel='Length', title='Soccer Length')\n",
    "ax[0,1].set(xlabel='Length', title='World Cup Length')\n",
    "ax[1,0].set(xlabel='Word Count', title='Soccer Word Count')\n",
    "ax[1,1].set(xlabel='Word Count', title='World Cup Word Count')\n",
    "\n",
    "fig.suptitle('Character & Word Count Distributions', fontsize=20);"
   ]
  },
  {
   "cell_type": "markdown",
   "metadata": {},
   "source": [
    "### Character and Word Count Distributions Described\n",
    "The soccer subreddit title word count had more high word counts in the range 40-60. The World Cup subreddit title word count however had much higher frequencies in the range form 10-20. The World Cup word count had a higher maximum word count than the soccer subreddit did. "
   ]
  },
  {
   "cell_type": "code",
   "execution_count": 23,
   "metadata": {},
   "outputs": [],
   "source": [
    "def my_lemmatizer(text):\n",
    "    wnet = WordNetLemmatizer()\n",
    "    return [wnet.lemmatize(w) for w in text.split(\" \")]"
   ]
  },
  {
   "cell_type": "code",
   "execution_count": 24,
   "metadata": {},
   "outputs": [],
   "source": [
    "wnet = WordNetLemmatizer()\n",
    "lem_stopwords = [wnet.lemmatize(w) for w in stopwords.words('english')]"
   ]
  },
  {
   "cell_type": "code",
   "execution_count": 34,
   "metadata": {},
   "outputs": [
    {
     "name": "stderr",
     "output_type": "stream",
     "text": [
      "C:\\Users\\jerem\\anaconda3\\lib\\site-packages\\sklearn\\feature_extraction\\text.py:528: UserWarning: The parameter 'token_pattern' will not be used since 'tokenizer' is not None'\n",
      "  warnings.warn(\n"
     ]
    },
    {
     "data": {
      "text/plain": [
       "world        411\n",
       "cup          371\n",
       "-            322\n",
       "messi        147\n",
       "2022         108\n",
       "first        105\n",
       "player       102\n",
       "fifa          99\n",
       "club          93\n",
       "match         91\n",
       "team          87\n",
       "football      86\n",
       "|             79\n",
       "sign          77\n",
       "argentina     76\n",
       "goal          72\n",
       "v             72\n",
       "final         64\n",
       "people        64\n",
       "get           63\n",
       "dtype: int64"
      ]
     },
     "execution_count": 34,
     "metadata": {},
     "output_type": "execute_result"
    }
   ],
   "source": [
    "cv = CountVectorizer(\n",
    "    stop_words=lem_stopwords,\n",
    "    tokenizer=my_lemmatizer    \n",
    "    )\n",
    "soccer_world_cup_vect = cv.fit_transform(soccer_world_cup['title'])\n",
    "soccer_world_cup_vect_df = pd.DataFrame(soccer_world_cup_vect.todense(), columns=cv.get_feature_names_out())\n",
    "\n",
    "# Take a look at the top 20 words\n",
    "soccer_world_cup_vect_df.sum().sort_values(ascending=False).head(20)"
   ]
  },
  {
   "cell_type": "markdown",
   "metadata": {},
   "source": [
    "### Soccer World Cup Words described\n",
    "The top 20 words for the combined dataframe consisted of the words world, cup, and messi. This makes sense as the world cup was the biggest event that recently occured in soccer. As well as Messi being the 3rd most popular word as he played a big role in his team Argentina winning the 2022 world cup. The special character symbols are logical as well as for longer titles these symbols are commonly used. "
   ]
  },
  {
   "cell_type": "code",
   "execution_count": 26,
   "metadata": {},
   "outputs": [
    {
     "data": {
      "text/html": [
       "<div>\n",
       "<style scoped>\n",
       "    .dataframe tbody tr th:only-of-type {\n",
       "        vertical-align: middle;\n",
       "    }\n",
       "\n",
       "    .dataframe tbody tr th {\n",
       "        vertical-align: top;\n",
       "    }\n",
       "\n",
       "    .dataframe thead th {\n",
       "        text-align: right;\n",
       "    }\n",
       "</style>\n",
       "<table border=\"1\" class=\"dataframe\">\n",
       "  <thead>\n",
       "    <tr style=\"text-align: right;\">\n",
       "      <th></th>\n",
       "      <th>subreddit</th>\n",
       "      <th>title</th>\n",
       "      <th>created_utc</th>\n",
       "      <th>length</th>\n",
       "      <th>word_count</th>\n",
       "    </tr>\n",
       "  </thead>\n",
       "  <tbody>\n",
       "    <tr>\n",
       "      <th>0</th>\n",
       "      <td>soccer</td>\n",
       "      <td>Patrice Motsepe (head of CAF) statements after...</td>\n",
       "      <td>1673634624</td>\n",
       "      <td>66</td>\n",
       "      <td>10</td>\n",
       "    </tr>\n",
       "    <tr>\n",
       "      <th>1</th>\n",
       "      <td>soccer</td>\n",
       "      <td>Since it hasn't been posted here, the statemen...</td>\n",
       "      <td>1673634572</td>\n",
       "      <td>78</td>\n",
       "      <td>13</td>\n",
       "    </tr>\n",
       "    <tr>\n",
       "      <th>2</th>\n",
       "      <td>soccer</td>\n",
       "      <td>[Brighton and Hove Albion] Facundo Buonanotte ...</td>\n",
       "      <td>1673634411</td>\n",
       "      <td>65</td>\n",
       "      <td>9</td>\n",
       "    </tr>\n",
       "    <tr>\n",
       "      <th>3</th>\n",
       "      <td>soccer</td>\n",
       "      <td>PSV see Dynamo Kyiv's Viktor Tsygankov as main...</td>\n",
       "      <td>1673634401</td>\n",
       "      <td>154</td>\n",
       "      <td>27</td>\n",
       "    </tr>\n",
       "    <tr>\n",
       "      <th>4</th>\n",
       "      <td>soccer</td>\n",
       "      <td>Brighton and Hove Albion offical: Facundo Buon...</td>\n",
       "      <td>1673634201</td>\n",
       "      <td>72</td>\n",
       "      <td>10</td>\n",
       "    </tr>\n",
       "    <tr>\n",
       "      <th>...</th>\n",
       "      <td>...</td>\n",
       "      <td>...</td>\n",
       "      <td>...</td>\n",
       "      <td>...</td>\n",
       "      <td>...</td>\n",
       "    </tr>\n",
       "    <tr>\n",
       "      <th>1951</th>\n",
       "      <td>worldcup</td>\n",
       "      <td>Did Enzo Fernandez deserve Young Player of the...</td>\n",
       "      <td>1671589663</td>\n",
       "      <td>57</td>\n",
       "      <td>9</td>\n",
       "    </tr>\n",
       "    <tr>\n",
       "      <th>1952</th>\n",
       "      <td>worldcup</td>\n",
       "      <td>What is the song at the beginning of this high...</td>\n",
       "      <td>1671589593</td>\n",
       "      <td>106</td>\n",
       "      <td>20</td>\n",
       "    </tr>\n",
       "    <tr>\n",
       "      <th>1953</th>\n",
       "      <td>worldcup</td>\n",
       "      <td>Need to find broadcast called by Pablo Giralt ...</td>\n",
       "      <td>1671588568</td>\n",
       "      <td>90</td>\n",
       "      <td>16</td>\n",
       "    </tr>\n",
       "    <tr>\n",
       "      <th>1954</th>\n",
       "      <td>worldcup</td>\n",
       "      <td>Where can I buy this shirt? I am super impress...</td>\n",
       "      <td>1671588429</td>\n",
       "      <td>69</td>\n",
       "      <td>13</td>\n",
       "    </tr>\n",
       "    <tr>\n",
       "      <th>1955</th>\n",
       "      <td>worldcup</td>\n",
       "      <td>Good news…the next World Cup is only 3.5 years...</td>\n",
       "      <td>1671588258</td>\n",
       "      <td>51</td>\n",
       "      <td>10</td>\n",
       "    </tr>\n",
       "  </tbody>\n",
       "</table>\n",
       "<p>1956 rows × 5 columns</p>\n",
       "</div>"
      ],
      "text/plain": [
       "     subreddit                                              title  \\\n",
       "0       soccer  Patrice Motsepe (head of CAF) statements after...   \n",
       "1       soccer  Since it hasn't been posted here, the statemen...   \n",
       "2       soccer  [Brighton and Hove Albion] Facundo Buonanotte ...   \n",
       "3       soccer  PSV see Dynamo Kyiv's Viktor Tsygankov as main...   \n",
       "4       soccer  Brighton and Hove Albion offical: Facundo Buon...   \n",
       "...        ...                                                ...   \n",
       "1951  worldcup  Did Enzo Fernandez deserve Young Player of the...   \n",
       "1952  worldcup  What is the song at the beginning of this high...   \n",
       "1953  worldcup  Need to find broadcast called by Pablo Giralt ...   \n",
       "1954  worldcup  Where can I buy this shirt? I am super impress...   \n",
       "1955  worldcup  Good news…the next World Cup is only 3.5 years...   \n",
       "\n",
       "      created_utc  length  word_count  \n",
       "0      1673634624      66          10  \n",
       "1      1673634572      78          13  \n",
       "2      1673634411      65           9  \n",
       "3      1673634401     154          27  \n",
       "4      1673634201      72          10  \n",
       "...           ...     ...         ...  \n",
       "1951   1671589663      57           9  \n",
       "1952   1671589593     106          20  \n",
       "1953   1671588568      90          16  \n",
       "1954   1671588429      69          13  \n",
       "1955   1671588258      51          10  \n",
       "\n",
       "[1956 rows x 5 columns]"
      ]
     },
     "execution_count": 26,
     "metadata": {},
     "output_type": "execute_result"
    }
   ],
   "source": [
    "soccer_world_cup"
   ]
  },
  {
   "cell_type": "markdown",
   "metadata": {},
   "source": [
    "### Conclusions for EDA"
   ]
  },
  {
   "cell_type": "markdown",
   "metadata": {},
   "source": [
    "Both the world cup subreddit and soccer subreddit seem to have different enough words to justify keeping both subreddits. This way if someone wants to post about the world cup but not about league soccer they can go to the world cup subreddit. There is some overlap as evidenced through the words world and cup appearing in the top 3 for both subreddits but other than that there are not many similarities between the two in terms of word similarity. It would be reasonable to conclude that if the classification models can give an accuracy score of 80% or above then FIFA can still stand to make good profits from having them seperate. The problem however still stands that the soccer subreddit is moderated much better than the world cup subreddit. A decision to invest funding for moderators to dispel spam and irrelevant comments could get more people on that subreddit and increase viewrrship for the world cup. "
   ]
  },
  {
   "cell_type": "code",
   "execution_count": null,
   "metadata": {},
   "outputs": [],
   "source": []
  }
 ],
 "metadata": {
  "kernelspec": {
   "display_name": "Python 3",
   "language": "python",
   "name": "python3"
  },
  "language_info": {
   "codemirror_mode": {
    "name": "ipython",
    "version": 3
   },
   "file_extension": ".py",
   "mimetype": "text/x-python",
   "name": "python",
   "nbconvert_exporter": "python",
   "pygments_lexer": "ipython3",
   "version": "3.8.5"
  }
 },
 "nbformat": 4,
 "nbformat_minor": 4
}
